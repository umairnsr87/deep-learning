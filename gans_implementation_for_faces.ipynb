{
  "nbformat": 4,
  "nbformat_minor": 0,
  "metadata": {
    "colab": {
      "name": "gans_implementation_for_faces.ipynb",
      "provenance": [],
      "collapsed_sections": []
    },
    "kernelspec": {
      "name": "python3",
      "display_name": "Python 3"
    },
    "accelerator": "GPU"
  },
  "cells": [
    {
      "cell_type": "code",
      "metadata": {
        "id": "StpexQXfmQi3"
      },
      "source": [
        "import tensorflow as tf\n",
        "from tensorflow.keras.layers import Input, Reshape, Dropout, Dense \n",
        "from tensorflow.keras.layers import Flatten, BatchNormalization\n",
        "from tensorflow.keras.layers import Activation, ZeroPadding2D\n",
        "from tensorflow.keras.layers import LeakyReLU\n",
        "from tensorflow.keras.layers import UpSampling2D, Conv2D\n",
        "from tensorflow.keras.models import Sequential, Model, load_model\n",
        "from tensorflow.keras.optimizers import Adam\n",
        "import numpy as np\n",
        "from PIL import Image\n",
        "from tqdm import tqdm\n",
        "import os \n",
        "import time\n",
        "import matplotlib.pyplot as plt"
      ],
      "execution_count": 5,
      "outputs": []
    },
    {
      "cell_type": "code",
      "metadata": {
        "id": "JcSpByWg-xFQ"
      },
      "source": [
        ""
      ],
      "execution_count": 5,
      "outputs": []
    },
    {
      "cell_type": "code",
      "metadata": {
        "id": "WkEm37kS-xyP"
      },
      "source": [
        "# Nicely formatted time string\n",
        "def hms_string(sec_elapsed):\n",
        "    h = int(sec_elapsed / (60 * 60))\n",
        "    m = int((sec_elapsed % (60 * 60)) / 60)\n",
        "    s = sec_elapsed % 60\n",
        "    return \"{}:{:>02}:{:>05.2f}\".format(h, m, s)"
      ],
      "execution_count": 6,
      "outputs": []
    },
    {
      "cell_type": "code",
      "metadata": {
        "id": "Q7-FlEV7qHvx",
        "outputId": "ba9f0fd9-49dd-4eb4-dcc5-e35b8c9f8f2d",
        "colab": {
          "base_uri": "https://localhost:8080/",
          "height": 35
        }
      },
      "source": [
        "# Generation resolution - Must be square \n",
        "# Training data is also scaled to this.\n",
        "# Note GENERATE_RES 4 or higher  \n",
        "# will blow Google CoLab's memory and have not\n",
        "# been tested extensivly.\n",
        "GENERATE_RES = 3 # Generation resolution factor \n",
        "# (1=32, 2=64, 3=96, 4=128, etc.)\n",
        "GENERATE_SQUARE = 32 * GENERATE_RES # rows/cols (should be square)\n",
        "IMAGE_CHANNELS = 3\n",
        "\n",
        "# Preview image \n",
        "PREVIEW_ROWS = 4\n",
        "PREVIEW_COLS = 7\n",
        "PREVIEW_MARGIN = 16\n",
        "\n",
        "# Size vector to generate images from\n",
        "SEED_SIZE = 100\n",
        "\n",
        "# Configuration\n",
        "DATA_PATH = '/content/drive/My Drive/projects/faces'\n",
        "EPOCHS = 10000\n",
        "BATCH_SIZE = 32\n",
        "BUFFER_SIZE = 60000\n",
        "\n",
        "print(f\"Will generate {GENERATE_SQUARE}px square images.\")"
      ],
      "execution_count": 7,
      "outputs": [
        {
          "output_type": "stream",
          "text": [
            "Will generate 96px square images.\n"
          ],
          "name": "stdout"
        }
      ]
    },
    {
      "cell_type": "code",
      "metadata": {
        "id": "lR-ZXB8vqT-b",
        "outputId": "64ed342c-d3f2-458f-d1a0-944831947030",
        "colab": {
          "base_uri": "https://localhost:8080/",
          "height": 54
        }
      },
      "source": [
        "# Image set has 11,682 images.  Can take over an hour \n",
        "# for initial preprocessing.\n",
        "# Because of this time needed, save a Numpy preprocessed file.\n",
        "# Note, that file is large enough to cause problems for \n",
        "# sume verisons of Pickle,\n",
        "# so Numpy binary files are used.\n",
        "training_binary_path = os.path.join(DATA_PATH,\n",
        "        f'training_data_{GENERATE_SQUARE}_{GENERATE_SQUARE}.npy')\n",
        "\n",
        "print(f\"Looking for file: {training_binary_path}\")\n",
        "\n",
        "if not os.path.isfile(training_binary_path):\n",
        "  start = time.time()\n",
        "  print(\"Loading training images...\")\n",
        "\n",
        "  training_data = []\n",
        "  faces_path = os.path.join(DATA_PATH,'face_images')\n",
        "  for filename in tqdm(os.listdir(faces_path)):\n",
        "      path = os.path.join(faces_path,filename)\n",
        "      image = Image.open(path).resize((GENERATE_SQUARE,\n",
        "            GENERATE_SQUARE),Image.ANTIALIAS)\n",
        "      training_data.append(np.asarray(image))\n",
        "  training_data = np.reshape(training_data,(-1,GENERATE_SQUARE,\n",
        "            GENERATE_SQUARE,IMAGE_CHANNELS))\n",
        "  training_data = training_data.astype(np.float32)\n",
        "  training_data = training_data / 127.5 - 1.\n",
        "\n",
        "\n",
        "  print(\"Saving training image binary...\")\n",
        "  np.save(training_binary_path,training_data)\n",
        "  elapsed = time.time()-start\n",
        "  print (f'Image preprocess time: {hms_string(elapsed)}')\n",
        "else:\n",
        "  print(\"Loading previous training pickle...\")\n",
        "  training_data = np.load(training_binary_path)"
      ],
      "execution_count": 8,
      "outputs": [
        {
          "output_type": "stream",
          "text": [
            "Looking for file: /content/drive/My Drive/projects/faces/training_data_96_96.npy\n",
            "Loading previous training pickle...\n"
          ],
          "name": "stdout"
        }
      ]
    },
    {
      "cell_type": "code",
      "metadata": {
        "id": "HXuK1Kb7-7jV"
      },
      "source": [
        "# Batch and shuffle the data\n",
        "train_dataset = tf.data.Dataset.from_tensor_slices(training_data) \\\n",
        "    .shuffle(BUFFER_SIZE).batch(BATCH_SIZE)"
      ],
      "execution_count": 9,
      "outputs": []
    },
    {
      "cell_type": "code",
      "metadata": {
        "id": "zTk2YAk3Artp"
      },
      "source": [
        "def build_generator(seed_size, channels):\n",
        "    model = Sequential()\n",
        "\n",
        "    model.add(Dense(4*4*256,activation=\"relu\",input_dim=seed_size))\n",
        "    model.add(Reshape((4,4,256)))\n",
        "\n",
        "    model.add(UpSampling2D())\n",
        "    model.add(Conv2D(256,kernel_size=3,padding=\"same\"))\n",
        "    model.add(BatchNormalization(momentum=0.8))\n",
        "    model.add(Activation(\"relu\"))\n",
        "\n",
        "    model.add(UpSampling2D())\n",
        "    model.add(Conv2D(256,kernel_size=3,padding=\"same\"))\n",
        "    model.add(BatchNormalization(momentum=0.8))\n",
        "    model.add(Activation(\"relu\"))\n",
        "   \n",
        "    # Output resolution, additional upsampling\n",
        "    model.add(UpSampling2D())\n",
        "    model.add(Conv2D(128,kernel_size=3,padding=\"same\"))\n",
        "    model.add(BatchNormalization(momentum=0.8))\n",
        "    model.add(Activation(\"relu\"))\n",
        "\n",
        "    if GENERATE_RES>1:\n",
        "      model.add(UpSampling2D(size=(GENERATE_RES,GENERATE_RES)))\n",
        "      model.add(Conv2D(128,kernel_size=3,padding=\"same\"))\n",
        "      model.add(BatchNormalization(momentum=0.8))\n",
        "      model.add(Activation(\"relu\"))\n",
        "\n",
        "    # Final CNN layer\n",
        "    model.add(Conv2D(channels,kernel_size=3,padding=\"same\"))\n",
        "    model.add(Activation(\"tanh\"))\n",
        "\n",
        "    return model\n",
        "\n",
        "\n",
        "def build_discriminator(image_shape):\n",
        "    model = Sequential()\n",
        "\n",
        "    model.add(Conv2D(32, kernel_size=3, strides=2, input_shape=image_shape, \n",
        "                     padding=\"same\"))\n",
        "    model.add(LeakyReLU(alpha=0.2))\n",
        "\n",
        "    model.add(Dropout(0.25))\n",
        "    model.add(Conv2D(64, kernel_size=3, strides=2, padding=\"same\"))\n",
        "    model.add(ZeroPadding2D(padding=((0,1),(0,1))))\n",
        "    model.add(BatchNormalization(momentum=0.8))\n",
        "    model.add(LeakyReLU(alpha=0.2))\n",
        "\n",
        "    model.add(Dropout(0.25))\n",
        "    model.add(Conv2D(128, kernel_size=3, strides=2, padding=\"same\"))\n",
        "    model.add(BatchNormalization(momentum=0.8))\n",
        "    model.add(LeakyReLU(alpha=0.2))\n",
        "\n",
        "    model.add(Dropout(0.25))\n",
        "    model.add(Conv2D(256, kernel_size=3, strides=1, padding=\"same\"))\n",
        "    model.add(BatchNormalization(momentum=0.8))\n",
        "    model.add(LeakyReLU(alpha=0.2))\n",
        "\n",
        "    model.add(Dropout(0.25))\n",
        "    model.add(Conv2D(512, kernel_size=3, strides=1, padding=\"same\"))\n",
        "    model.add(BatchNormalization(momentum=0.8))\n",
        "    model.add(LeakyReLU(alpha=0.2))\n",
        "\n",
        "    model.add(Dropout(0.25))\n",
        "    model.add(Flatten())\n",
        "    model.add(Dense(1, activation='sigmoid'))\n",
        "\n",
        "    return model"
      ],
      "execution_count": 11,
      "outputs": []
    },
    {
      "cell_type": "code",
      "metadata": {
        "id": "cgoZth6jBCW0"
      },
      "source": [
        "def save_images(cnt,noise):\n",
        "  image_array = np.full(( \n",
        "      PREVIEW_MARGIN + (PREVIEW_ROWS * (GENERATE_SQUARE+PREVIEW_MARGIN)), \n",
        "      PREVIEW_MARGIN + (PREVIEW_COLS * (GENERATE_SQUARE+PREVIEW_MARGIN)), 3), \n",
        "      255, dtype=np.uint8)\n",
        "  \n",
        "  generated_images = generator.predict(noise)\n",
        "\n",
        "  generated_images = 0.5 * generated_images + 0.5\n",
        "\n",
        "  image_count = 0\n",
        "  for row in range(PREVIEW_ROWS):\n",
        "      for col in range(PREVIEW_COLS):\n",
        "        r = row * (GENERATE_SQUARE+16) + PREVIEW_MARGIN\n",
        "        c = col * (GENERATE_SQUARE+16) + PREVIEW_MARGIN\n",
        "        image_array[r:r+GENERATE_SQUARE,c:c+GENERATE_SQUARE] \\\n",
        "            = generated_images[image_count] * 255\n",
        "        image_count += 1\n",
        "\n",
        "          \n",
        "  output_path = os.path.join(DATA_PATH,'output')\n",
        "  if not os.path.exists(output_path):\n",
        "    os.makedirs(output_path)\n",
        "  \n",
        "  filename = os.path.join(output_path,f\"train-{cnt}.png\")\n",
        "  im = Image.fromarray(image_array)\n",
        "  im.save(filename)"
      ],
      "execution_count": 12,
      "outputs": []
    },
    {
      "cell_type": "code",
      "metadata": {
        "id": "SpAl85dlBDe6",
        "outputId": "9d47547e-d958-40ca-af0e-02de63f57831",
        "colab": {
          "base_uri": "https://localhost:8080/",
          "height": 286
        }
      },
      "source": [
        "generator = build_generator(SEED_SIZE, IMAGE_CHANNELS)\n",
        "\n",
        "noise = tf.random.normal([1, SEED_SIZE])\n",
        "generated_image = generator(noise, training=False)\n",
        "\n",
        "plt.imshow(generated_image[0, :, :, 0])"
      ],
      "execution_count": 13,
      "outputs": [
        {
          "output_type": "execute_result",
          "data": {
            "text/plain": [
              "<matplotlib.image.AxesImage at 0x7efd501183c8>"
            ]
          },
          "metadata": {
            "tags": []
          },
          "execution_count": 13
        },
        {
          "output_type": "display_data",
          "data": {
            "image/png": "[encoded data removed]",
            "text/plain": [
              "<Figure size 432x288 with 1 Axes>"
            ]
          },
          "metadata": {
            "tags": [],
            "needs_background": "light"
          }
        }
      ]
    },
    {
      "cell_type": "code",
      "metadata": {
        "id": "PzNGNhkwBQMp",
        "outputId": "99caf0b1-791d-4e27-a878-6e1638ef9b42",
        "colab": {
          "base_uri": "https://localhost:8080/",
          "height": 35
        }
      },
      "source": [
        "image_shape = (GENERATE_SQUARE,GENERATE_SQUARE,IMAGE_CHANNELS)\n",
        "\n",
        "discriminator = build_discriminator(image_shape)\n",
        "decision = discriminator(generated_image)\n",
        "print (decision)"
      ],
      "execution_count": 14,
      "outputs": [
        {
          "output_type": "stream",
          "text": [
            "tf.Tensor([[0.50018]], shape=(1, 1), dtype=float32)\n"
          ],
          "name": "stdout"
        }
      ]
    },
    {
      "cell_type": "code",
      "metadata": {
        "id": "frf-xjMjBX3U"
      },
      "source": [
        "\n",
        "\n",
        "# This method returns a helper function to compute cross entropy loss\n",
        "cross_entropy = tf.keras.losses.BinaryCrossentropy(from_logits=True)\n",
        "\n",
        "def discriminator_loss(real_output, fake_output):\n",
        "    real_loss = cross_entropy(tf.ones_like(real_output), real_output)\n",
        "    fake_loss = cross_entropy(tf.zeros_like(fake_output), fake_output)\n",
        "    total_loss = real_loss + fake_loss\n",
        "    return total_loss\n",
        "\n",
        "def generator_loss(fake_output):\n",
        "    return cross_entropy(tf.ones_like(fake_output), fake_output)\n",
        "\n"
      ],
      "execution_count": 15,
      "outputs": []
    },
    {
      "cell_type": "code",
      "metadata": {
        "id": "EFYk-H39CKde"
      },
      "source": [
        "generator_optimizer = tf.keras.optimizers.Adam(1.5e-4,0.5)\n",
        "discriminator_optimizer = tf.keras.optimizers.Adam(1.5e-4,0.5)"
      ],
      "execution_count": 19,
      "outputs": []
    },
    {
      "cell_type": "code",
      "metadata": {
        "id": "OVLRzC_FBgRr"
      },
      "source": [
        "\n",
        "\n",
        "# Notice the use of `tf.function`\n",
        "# This annotation causes the function to be \"compiled\".\n",
        "@tf.function\n",
        "def train_step(images):\n",
        "  seed = tf.random.normal([BATCH_SIZE, SEED_SIZE])\n",
        "\n",
        "  with tf.GradientTape() as gen_tape, tf.GradientTape() as disc_tape:\n",
        "    generated_images = generator(seed, training=True)\n",
        "\n",
        "    real_output = discriminator(images, training=True)\n",
        "    fake_output = discriminator(generated_images, training=True)\n",
        "\n",
        "    gen_loss = generator_loss(fake_output)\n",
        "    disc_loss = discriminator_loss(real_output, fake_output)\n",
        "    \n",
        "\n",
        "    gradients_of_generator = gen_tape.gradient(\\\n",
        "        gen_loss, generator.trainable_variables)\n",
        "    gradients_of_discriminator = disc_tape.gradient(\\\n",
        "        disc_loss, discriminator.trainable_variables)\n",
        "\n",
        "    generator_optimizer.apply_gradients(zip(\n",
        "        gradients_of_generator, generator.trainable_variables))\n",
        "    discriminator_optimizer.apply_gradients(zip(\n",
        "        gradients_of_discriminator, \n",
        "        discriminator.trainable_variables))\n",
        "  return gen_loss,disc_loss\n",
        "\n"
      ],
      "execution_count": 20,
      "outputs": []
    },
    {
      "cell_type": "code",
      "metadata": {
        "id": "xWGzthcfBiQj"
      },
      "source": [
        "def train(dataset, epochs):\n",
        "  fixed_seed = np.random.normal(0, 1, (PREVIEW_ROWS * PREVIEW_COLS, \n",
        "                                       SEED_SIZE))\n",
        "  start = time.time()\n",
        "\n",
        "  for epoch in range(epochs):\n",
        "    epoch_start = time.time()\n",
        "\n",
        "    gen_loss_list = []\n",
        "    disc_loss_list = []\n",
        "\n",
        "    for image_batch in dataset:\n",
        "      t = train_step(image_batch)\n",
        "      gen_loss_list.append(t[0])\n",
        "      disc_loss_list.append(t[1])\n",
        "\n",
        "    g_loss = sum(gen_loss_list) / len(gen_loss_list)\n",
        "    d_loss = sum(disc_loss_list) / len(disc_loss_list)\n",
        "\n",
        "    epoch_elapsed = time.time()-epoch_start\n",
        "    print (f'Epoch {epoch+1}, gen loss={g_loss},disc loss={d_loss},'\\\n",
        "           ' {hms_string(epoch_elapsed)}')\n",
        "    save_images(epoch,fixed_seed)\n",
        "\n",
        "  elapsed = time.time()-start\n",
        "  print (f'Training time: {hms_string(elapsed)}')"
      ],
      "execution_count": 21,
      "outputs": []
    },
    {
      "cell_type": "code",
      "metadata": {
        "id": "7bmIm-bNBmlz",
        "outputId": "9b5d2977-e296-440b-e094-118eed19cc9b",
        "colab": {
          "base_uri": "https://localhost:8080/",
          "height": 1000
        }
      },
      "source": [
        "\n",
        "\n",
        "train(train_dataset, 1000)\n",
        "\n"
      ],
      "execution_count": null,
      "outputs": [
        {
          "output_type": "stream",
          "text": [
            "Epoch 1, gen loss=0.6931461095809937,disc loss=1.3862922191619873, {hms_string(epoch_elapsed)}\n",
            "Epoch 2, gen loss=0.6931461095809937,disc loss=1.3862922191619873, {hms_string(epoch_elapsed)}\n",
            "Epoch 3, gen loss=0.6931461095809937,disc loss=1.3862922191619873, {hms_string(epoch_elapsed)}\n",
            "Epoch 4, gen loss=0.6931461095809937,disc loss=1.3862922191619873, {hms_string(epoch_elapsed)}\n",
            "Epoch 5, gen loss=0.6931461095809937,disc loss=1.3862922191619873, {hms_string(epoch_elapsed)}\n",
            "Epoch 6, gen loss=0.6931461095809937,disc loss=1.3862922191619873, {hms_string(epoch_elapsed)}\n",
            "Epoch 7, gen loss=0.6931461095809937,disc loss=1.3862922191619873, {hms_string(epoch_elapsed)}\n",
            "Epoch 8, gen loss=0.6931461095809937,disc loss=1.3862922191619873, {hms_string(epoch_elapsed)}\n",
            "Epoch 9, gen loss=0.6931461095809937,disc loss=1.3862922191619873, {hms_string(epoch_elapsed)}\n",
            "Epoch 10, gen loss=0.6931461095809937,disc loss=1.3862922191619873, {hms_string(epoch_elapsed)}\n",
            "Epoch 11, gen loss=0.6931461095809937,disc loss=1.3862922191619873, {hms_string(epoch_elapsed)}\n",
            "Epoch 12, gen loss=0.6931461095809937,disc loss=1.3862922191619873, {hms_string(epoch_elapsed)}\n",
            "Epoch 13, gen loss=0.6931461095809937,disc loss=1.3862922191619873, {hms_string(epoch_elapsed)}\n",
            "Epoch 14, gen loss=0.6931461095809937,disc loss=1.3862922191619873, {hms_string(epoch_elapsed)}\n",
            "Epoch 15, gen loss=0.6931461095809937,disc loss=1.3862922191619873, {hms_string(epoch_elapsed)}\n",
            "Epoch 16, gen loss=0.6931461095809937,disc loss=1.3862922191619873, {hms_string(epoch_elapsed)}\n",
            "Epoch 17, gen loss=0.6931461095809937,disc loss=1.3862922191619873, {hms_string(epoch_elapsed)}\n",
            "Epoch 18, gen loss=0.6931461095809937,disc loss=1.3862922191619873, {hms_string(epoch_elapsed)}\n",
            "Epoch 19, gen loss=0.6931461095809937,disc loss=1.3862922191619873, {hms_string(epoch_elapsed)}\n",
            "Epoch 20, gen loss=0.6931461095809937,disc loss=1.3862922191619873, {hms_string(epoch_elapsed)}\n",
            "Epoch 21, gen loss=0.6931461095809937,disc loss=1.3862922191619873, {hms_string(epoch_elapsed)}\n",
            "Epoch 22, gen loss=0.6931461095809937,disc loss=1.3862922191619873, {hms_string(epoch_elapsed)}\n",
            "Epoch 23, gen loss=0.6931461095809937,disc loss=1.3862922191619873, {hms_string(epoch_elapsed)}\n",
            "Epoch 24, gen loss=0.6931461095809937,disc loss=1.3862922191619873, {hms_string(epoch_elapsed)}\n",
            "Epoch 25, gen loss=0.6931461095809937,disc loss=1.3862922191619873, {hms_string(epoch_elapsed)}\n",
            "Epoch 26, gen loss=0.6931461095809937,disc loss=1.3862922191619873, {hms_string(epoch_elapsed)}\n",
            "Epoch 27, gen loss=0.6931461095809937,disc loss=1.3862922191619873, {hms_string(epoch_elapsed)}\n",
            "Epoch 28, gen loss=0.6931461095809937,disc loss=1.3862922191619873, {hms_string(epoch_elapsed)}\n",
            "Epoch 29, gen loss=0.6931461095809937,disc loss=1.3862922191619873, {hms_string(epoch_elapsed)}\n",
            "Epoch 30, gen loss=0.6931461095809937,disc loss=1.3862922191619873, {hms_string(epoch_elapsed)}\n",
            "Epoch 31, gen loss=0.6931461095809937,disc loss=1.3862922191619873, {hms_string(epoch_elapsed)}\n",
            "Epoch 32, gen loss=0.6931461095809937,disc loss=1.3862922191619873, {hms_string(epoch_elapsed)}\n",
            "Epoch 33, gen loss=0.6931461095809937,disc loss=1.3862922191619873, {hms_string(epoch_elapsed)}\n",
            "Epoch 34, gen loss=0.6931461095809937,disc loss=1.3862922191619873, {hms_string(epoch_elapsed)}\n",
            "Epoch 35, gen loss=0.6931461095809937,disc loss=1.3862922191619873, {hms_string(epoch_elapsed)}\n",
            "Epoch 36, gen loss=0.6931461095809937,disc loss=1.3862922191619873, {hms_string(epoch_elapsed)}\n",
            "Epoch 37, gen loss=0.6931461095809937,disc loss=1.3862922191619873, {hms_string(epoch_elapsed)}\n",
            "Epoch 38, gen loss=0.6931461095809937,disc loss=1.3862922191619873, {hms_string(epoch_elapsed)}\n",
            "Epoch 39, gen loss=0.6931461095809937,disc loss=1.3862922191619873, {hms_string(epoch_elapsed)}\n",
            "Epoch 40, gen loss=0.6931461095809937,disc loss=1.3862922191619873, {hms_string(epoch_elapsed)}\n",
            "Epoch 41, gen loss=0.6931461095809937,disc loss=1.3862922191619873, {hms_string(epoch_elapsed)}\n",
            "Epoch 42, gen loss=0.6931461095809937,disc loss=1.3862922191619873, {hms_string(epoch_elapsed)}\n",
            "Epoch 43, gen loss=0.6931461095809937,disc loss=1.3862922191619873, {hms_string(epoch_elapsed)}\n",
            "Epoch 44, gen loss=0.6931461095809937,disc loss=1.3862922191619873, {hms_string(epoch_elapsed)}\n",
            "Epoch 45, gen loss=0.6931461095809937,disc loss=1.3862922191619873, {hms_string(epoch_elapsed)}\n",
            "Epoch 46, gen loss=0.6931461095809937,disc loss=1.3862922191619873, {hms_string(epoch_elapsed)}\n",
            "Epoch 47, gen loss=0.6931461095809937,disc loss=1.3862922191619873, {hms_string(epoch_elapsed)}\n",
            "Epoch 48, gen loss=0.6931461095809937,disc loss=1.3862922191619873, {hms_string(epoch_elapsed)}\n",
            "Epoch 49, gen loss=0.6931461095809937,disc loss=1.3862922191619873, {hms_string(epoch_elapsed)}\n",
            "Epoch 50, gen loss=0.6931461095809937,disc loss=1.3862922191619873, {hms_string(epoch_elapsed)}\n",
            "Epoch 51, gen loss=0.6931461095809937,disc loss=1.3862922191619873, {hms_string(epoch_elapsed)}\n",
            "Epoch 52, gen loss=0.6931461095809937,disc loss=1.3862922191619873, {hms_string(epoch_elapsed)}\n",
            "Epoch 53, gen loss=0.6931461095809937,disc loss=1.3862922191619873, {hms_string(epoch_elapsed)}\n",
            "Epoch 54, gen loss=0.6931461095809937,disc loss=1.3862922191619873, {hms_string(epoch_elapsed)}\n",
            "Epoch 55, gen loss=0.6931461095809937,disc loss=1.3862922191619873, {hms_string(epoch_elapsed)}\n",
            "Epoch 56, gen loss=0.6931461095809937,disc loss=1.3862922191619873, {hms_string(epoch_elapsed)}\n",
            "Epoch 57, gen loss=0.6931461095809937,disc loss=1.3862922191619873, {hms_string(epoch_elapsed)}\n",
            "Epoch 58, gen loss=0.6931461095809937,disc loss=1.3862922191619873, {hms_string(epoch_elapsed)}\n",
            "Epoch 59, gen loss=0.6931461095809937,disc loss=1.3862922191619873, {hms_string(epoch_elapsed)}\n",
            "Epoch 60, gen loss=0.6931461095809937,disc loss=1.3862922191619873, {hms_string(epoch_elapsed)}\n",
            "Epoch 61, gen loss=0.6931461095809937,disc loss=1.3862922191619873, {hms_string(epoch_elapsed)}\n",
            "Epoch 62, gen loss=0.6931461095809937,disc loss=1.3862922191619873, {hms_string(epoch_elapsed)}\n",
            "Epoch 63, gen loss=0.6931461095809937,disc loss=1.3862922191619873, {hms_string(epoch_elapsed)}\n",
            "Epoch 64, gen loss=0.6931461095809937,disc loss=1.3862922191619873, {hms_string(epoch_elapsed)}\n",
            "Epoch 65, gen loss=0.6931461095809937,disc loss=1.3862922191619873, {hms_string(epoch_elapsed)}\n",
            "Epoch 66, gen loss=0.6931461095809937,disc loss=1.3862922191619873, {hms_string(epoch_elapsed)}\n",
            "Epoch 67, gen loss=0.6931461095809937,disc loss=1.3862922191619873, {hms_string(epoch_elapsed)}\n",
            "Epoch 68, gen loss=0.6931461095809937,disc loss=1.3862922191619873, {hms_string(epoch_elapsed)}\n",
            "Epoch 69, gen loss=0.6931461095809937,disc loss=1.3862922191619873, {hms_string(epoch_elapsed)}\n",
            "Epoch 70, gen loss=0.6931461095809937,disc loss=1.3862922191619873, {hms_string(epoch_elapsed)}\n",
            "Epoch 71, gen loss=0.6931461095809937,disc loss=1.3862922191619873, {hms_string(epoch_elapsed)}\n",
            "Epoch 72, gen loss=0.6931461095809937,disc loss=1.3862922191619873, {hms_string(epoch_elapsed)}\n",
            "Epoch 73, gen loss=0.6931461095809937,disc loss=1.3862922191619873, {hms_string(epoch_elapsed)}\n",
            "Epoch 74, gen loss=0.6931461095809937,disc loss=1.3862922191619873, {hms_string(epoch_elapsed)}\n",
            "Epoch 75, gen loss=0.6931461095809937,disc loss=1.3862922191619873, {hms_string(epoch_elapsed)}\n",
            "Epoch 76, gen loss=0.6931461095809937,disc loss=1.3862922191619873, {hms_string(epoch_elapsed)}\n",
            "Epoch 77, gen loss=0.6931461095809937,disc loss=1.3862922191619873, {hms_string(epoch_elapsed)}\n",
            "Epoch 78, gen loss=0.6931461095809937,disc loss=1.3862922191619873, {hms_string(epoch_elapsed)}\n",
            "Epoch 79, gen loss=0.6931461095809937,disc loss=1.3862922191619873, {hms_string(epoch_elapsed)}\n",
            "Epoch 80, gen loss=0.6931461095809937,disc loss=1.3862922191619873, {hms_string(epoch_elapsed)}\n",
            "Epoch 81, gen loss=0.6931461095809937,disc loss=1.3862922191619873, {hms_string(epoch_elapsed)}\n",
            "Epoch 82, gen loss=0.6931461095809937,disc loss=1.3862922191619873, {hms_string(epoch_elapsed)}\n",
            "Epoch 83, gen loss=0.6931461095809937,disc loss=1.3862922191619873, {hms_string(epoch_elapsed)}\n",
            "Epoch 84, gen loss=0.6931461095809937,disc loss=1.3862922191619873, {hms_string(epoch_elapsed)}\n",
            "Epoch 85, gen loss=0.6873019337654114,disc loss=1.3223506212234497, {hms_string(epoch_elapsed)}\n",
            "Epoch 86, gen loss=0.6931434869766235,disc loss=1.0064114332199097, {hms_string(epoch_elapsed)}\n",
            "Epoch 87, gen loss=0.6909840703010559,disc loss=1.0106769800186157, {hms_string(epoch_elapsed)}\n",
            "Epoch 88, gen loss=0.6931461095809937,disc loss=1.0064566135406494, {hms_string(epoch_elapsed)}\n",
            "Epoch 89, gen loss=0.6931461095809937,disc loss=1.0064088106155396, {hms_string(epoch_elapsed)}\n",
            "Epoch 90, gen loss=0.6931461095809937,disc loss=1.0064088106155396, {hms_string(epoch_elapsed)}\n",
            "Epoch 91, gen loss=0.6931461095809937,disc loss=1.0064088106155396, {hms_string(epoch_elapsed)}\n",
            "Epoch 92, gen loss=0.6931461095809937,disc loss=1.0064088106155396, {hms_string(epoch_elapsed)}\n",
            "Epoch 93, gen loss=0.6931461095809937,disc loss=1.0064187049865723, {hms_string(epoch_elapsed)}\n",
            "Epoch 94, gen loss=0.6931461095809937,disc loss=1.0064088106155396, {hms_string(epoch_elapsed)}\n",
            "Epoch 95, gen loss=0.6931461095809937,disc loss=1.0064088106155396, {hms_string(epoch_elapsed)}\n",
            "Epoch 96, gen loss=0.6931461095809937,disc loss=1.0064088106155396, {hms_string(epoch_elapsed)}\n",
            "Epoch 97, gen loss=0.6931461095809937,disc loss=1.0064088106155396, {hms_string(epoch_elapsed)}\n",
            "Epoch 98, gen loss=0.6931461095809937,disc loss=1.0064088106155396, {hms_string(epoch_elapsed)}\n",
            "Epoch 99, gen loss=0.6931461095809937,disc loss=1.0064088106155396, {hms_string(epoch_elapsed)}\n",
            "Epoch 100, gen loss=0.6931461095809937,disc loss=1.0064088106155396, {hms_string(epoch_elapsed)}\n",
            "Epoch 101, gen loss=0.6931461095809937,disc loss=1.0064088106155396, {hms_string(epoch_elapsed)}\n",
            "Epoch 102, gen loss=0.6931461095809937,disc loss=1.0064088106155396, {hms_string(epoch_elapsed)}\n",
            "Epoch 103, gen loss=0.6931461095809937,disc loss=1.0064088106155396, {hms_string(epoch_elapsed)}\n",
            "Epoch 104, gen loss=0.6931461095809937,disc loss=1.0064088106155396, {hms_string(epoch_elapsed)}\n",
            "Epoch 105, gen loss=0.6931461095809937,disc loss=1.0064088106155396, {hms_string(epoch_elapsed)}\n",
            "Epoch 106, gen loss=0.6931461095809937,disc loss=1.0064088106155396, {hms_string(epoch_elapsed)}\n",
            "Epoch 107, gen loss=0.6931461095809937,disc loss=1.0064088106155396, {hms_string(epoch_elapsed)}\n",
            "Epoch 108, gen loss=0.6931461095809937,disc loss=1.0064088106155396, {hms_string(epoch_elapsed)}\n",
            "Epoch 109, gen loss=0.6931461095809937,disc loss=1.0064088106155396, {hms_string(epoch_elapsed)}\n",
            "Epoch 110, gen loss=0.6931461095809937,disc loss=1.0064088106155396, {hms_string(epoch_elapsed)}\n",
            "Epoch 111, gen loss=0.6931461095809937,disc loss=1.0064088106155396, {hms_string(epoch_elapsed)}\n",
            "Epoch 112, gen loss=0.6931461095809937,disc loss=1.0064088106155396, {hms_string(epoch_elapsed)}\n",
            "Epoch 113, gen loss=0.6931461095809937,disc loss=1.0064088106155396, {hms_string(epoch_elapsed)}\n",
            "Epoch 114, gen loss=0.6931461095809937,disc loss=1.0064088106155396, {hms_string(epoch_elapsed)}\n",
            "Epoch 115, gen loss=0.6931461095809937,disc loss=1.0064088106155396, {hms_string(epoch_elapsed)}\n",
            "Epoch 116, gen loss=0.6931461095809937,disc loss=1.0064088106155396, {hms_string(epoch_elapsed)}\n",
            "Epoch 117, gen loss=0.6931461095809937,disc loss=1.0064088106155396, {hms_string(epoch_elapsed)}\n",
            "Epoch 118, gen loss=0.6931461095809937,disc loss=1.0064088106155396, {hms_string(epoch_elapsed)}\n",
            "Epoch 119, gen loss=0.6931461095809937,disc loss=1.0064088106155396, {hms_string(epoch_elapsed)}\n",
            "Epoch 120, gen loss=0.43320491909980774,disc loss=1.4331352710723877, {hms_string(epoch_elapsed)}\n",
            "Epoch 121, gen loss=0.31326228380203247,disc loss=1.6265254020690918, {hms_string(epoch_elapsed)}\n",
            "Epoch 122, gen loss=0.31326228380203247,disc loss=1.6265254020690918, {hms_string(epoch_elapsed)}\n",
            "Epoch 123, gen loss=0.31326228380203247,disc loss=1.6265254020690918, {hms_string(epoch_elapsed)}\n",
            "Epoch 124, gen loss=0.31326228380203247,disc loss=1.6265254020690918, {hms_string(epoch_elapsed)}\n",
            "Epoch 125, gen loss=0.31326228380203247,disc loss=1.6265254020690918, {hms_string(epoch_elapsed)}\n",
            "Epoch 126, gen loss=0.31326228380203247,disc loss=1.6265254020690918, {hms_string(epoch_elapsed)}\n",
            "Epoch 127, gen loss=0.31326228380203247,disc loss=1.6265254020690918, {hms_string(epoch_elapsed)}\n",
            "Epoch 128, gen loss=0.31326228380203247,disc loss=1.6265254020690918, {hms_string(epoch_elapsed)}\n",
            "Epoch 129, gen loss=0.31326228380203247,disc loss=1.6265254020690918, {hms_string(epoch_elapsed)}\n",
            "Epoch 130, gen loss=0.31326228380203247,disc loss=1.6265254020690918, {hms_string(epoch_elapsed)}\n",
            "Epoch 131, gen loss=0.31326228380203247,disc loss=1.6265254020690918, {hms_string(epoch_elapsed)}\n",
            "Epoch 132, gen loss=0.31326228380203247,disc loss=1.6265254020690918, {hms_string(epoch_elapsed)}\n",
            "Epoch 133, gen loss=0.31326228380203247,disc loss=1.6265254020690918, {hms_string(epoch_elapsed)}\n",
            "Epoch 134, gen loss=0.31326228380203247,disc loss=1.6265254020690918, {hms_string(epoch_elapsed)}\n",
            "Epoch 135, gen loss=0.31326228380203247,disc loss=1.6265254020690918, {hms_string(epoch_elapsed)}\n",
            "Epoch 136, gen loss=0.31326228380203247,disc loss=1.6265254020690918, {hms_string(epoch_elapsed)}\n",
            "Epoch 137, gen loss=0.31326228380203247,disc loss=1.6265254020690918, {hms_string(epoch_elapsed)}\n",
            "Epoch 138, gen loss=0.31326228380203247,disc loss=1.6265254020690918, {hms_string(epoch_elapsed)}\n",
            "Epoch 139, gen loss=0.31326228380203247,disc loss=1.6265254020690918, {hms_string(epoch_elapsed)}\n",
            "Epoch 140, gen loss=0.31326228380203247,disc loss=1.6265254020690918, {hms_string(epoch_elapsed)}\n",
            "Epoch 141, gen loss=0.31326228380203247,disc loss=1.6265254020690918, {hms_string(epoch_elapsed)}\n",
            "Epoch 142, gen loss=0.31326228380203247,disc loss=1.6265254020690918, {hms_string(epoch_elapsed)}\n",
            "Epoch 143, gen loss=0.31326228380203247,disc loss=1.6265254020690918, {hms_string(epoch_elapsed)}\n",
            "Epoch 144, gen loss=0.31326228380203247,disc loss=1.6265254020690918, {hms_string(epoch_elapsed)}\n",
            "Epoch 145, gen loss=0.31326228380203247,disc loss=1.6265254020690918, {hms_string(epoch_elapsed)}\n",
            "Epoch 146, gen loss=0.31326228380203247,disc loss=1.6265254020690918, {hms_string(epoch_elapsed)}\n",
            "Epoch 147, gen loss=0.31326228380203247,disc loss=1.6265254020690918, {hms_string(epoch_elapsed)}\n",
            "Epoch 148, gen loss=0.31326228380203247,disc loss=1.6265254020690918, {hms_string(epoch_elapsed)}\n",
            "Epoch 149, gen loss=0.31326228380203247,disc loss=1.6265254020690918, {hms_string(epoch_elapsed)}\n",
            "Epoch 150, gen loss=0.31326228380203247,disc loss=1.6265254020690918, {hms_string(epoch_elapsed)}\n",
            "Epoch 151, gen loss=0.31326228380203247,disc loss=1.6265254020690918, {hms_string(epoch_elapsed)}\n",
            "Epoch 152, gen loss=0.31326228380203247,disc loss=1.6265254020690918, {hms_string(epoch_elapsed)}\n",
            "Epoch 153, gen loss=0.31326228380203247,disc loss=1.6265254020690918, {hms_string(epoch_elapsed)}\n",
            "Epoch 154, gen loss=0.31326228380203247,disc loss=1.6265254020690918, {hms_string(epoch_elapsed)}\n",
            "Epoch 155, gen loss=0.31326228380203247,disc loss=1.6265254020690918, {hms_string(epoch_elapsed)}\n",
            "Epoch 156, gen loss=0.31326228380203247,disc loss=1.6265254020690918, {hms_string(epoch_elapsed)}\n",
            "Epoch 157, gen loss=0.31326228380203247,disc loss=1.6265254020690918, {hms_string(epoch_elapsed)}\n",
            "Epoch 158, gen loss=0.31326228380203247,disc loss=1.6265254020690918, {hms_string(epoch_elapsed)}\n",
            "Epoch 159, gen loss=0.31326228380203247,disc loss=1.6265254020690918, {hms_string(epoch_elapsed)}\n",
            "Epoch 160, gen loss=0.31326228380203247,disc loss=1.6265254020690918, {hms_string(epoch_elapsed)}\n",
            "Epoch 161, gen loss=0.31326228380203247,disc loss=1.6265254020690918, {hms_string(epoch_elapsed)}\n",
            "Epoch 162, gen loss=0.31326228380203247,disc loss=1.6265254020690918, {hms_string(epoch_elapsed)}\n",
            "Epoch 163, gen loss=0.31326228380203247,disc loss=1.6265254020690918, {hms_string(epoch_elapsed)}\n",
            "Epoch 164, gen loss=0.31326228380203247,disc loss=1.6265254020690918, {hms_string(epoch_elapsed)}\n",
            "Epoch 165, gen loss=0.31326228380203247,disc loss=1.6265254020690918, {hms_string(epoch_elapsed)}\n",
            "Epoch 166, gen loss=0.31326228380203247,disc loss=1.6265254020690918, {hms_string(epoch_elapsed)}\n",
            "Epoch 167, gen loss=0.31326228380203247,disc loss=1.6265254020690918, {hms_string(epoch_elapsed)}\n",
            "Epoch 168, gen loss=0.31326228380203247,disc loss=1.6265254020690918, {hms_string(epoch_elapsed)}\n",
            "Epoch 169, gen loss=0.31326228380203247,disc loss=1.6265254020690918, {hms_string(epoch_elapsed)}\n",
            "Epoch 170, gen loss=0.31326228380203247,disc loss=1.6265254020690918, {hms_string(epoch_elapsed)}\n",
            "Epoch 171, gen loss=0.31326228380203247,disc loss=1.6265254020690918, {hms_string(epoch_elapsed)}\n",
            "Epoch 172, gen loss=0.31326228380203247,disc loss=1.6265254020690918, {hms_string(epoch_elapsed)}\n",
            "Epoch 173, gen loss=0.31326228380203247,disc loss=1.6265254020690918, {hms_string(epoch_elapsed)}\n",
            "Epoch 174, gen loss=0.31326228380203247,disc loss=1.6265254020690918, {hms_string(epoch_elapsed)}\n",
            "Epoch 175, gen loss=0.31326228380203247,disc loss=1.6265254020690918, {hms_string(epoch_elapsed)}\n",
            "Epoch 176, gen loss=0.31326228380203247,disc loss=1.6265254020690918, {hms_string(epoch_elapsed)}\n",
            "Epoch 177, gen loss=0.31326228380203247,disc loss=1.6265254020690918, {hms_string(epoch_elapsed)}\n",
            "Epoch 178, gen loss=0.31326228380203247,disc loss=1.6265254020690918, {hms_string(epoch_elapsed)}\n",
            "Epoch 179, gen loss=0.31326228380203247,disc loss=1.6265254020690918, {hms_string(epoch_elapsed)}\n",
            "Epoch 180, gen loss=0.31326228380203247,disc loss=1.6265254020690918, {hms_string(epoch_elapsed)}\n",
            "Epoch 181, gen loss=0.31326228380203247,disc loss=1.6265254020690918, {hms_string(epoch_elapsed)}\n",
            "Epoch 182, gen loss=0.31326228380203247,disc loss=1.6265254020690918, {hms_string(epoch_elapsed)}\n",
            "Epoch 183, gen loss=0.31326228380203247,disc loss=1.6265254020690918, {hms_string(epoch_elapsed)}\n",
            "Epoch 184, gen loss=0.31326228380203247,disc loss=1.6265254020690918, {hms_string(epoch_elapsed)}\n",
            "Epoch 185, gen loss=0.31326228380203247,disc loss=1.6265254020690918, {hms_string(epoch_elapsed)}\n",
            "Epoch 186, gen loss=0.31326228380203247,disc loss=1.6265254020690918, {hms_string(epoch_elapsed)}\n",
            "Epoch 187, gen loss=0.31326228380203247,disc loss=1.6265254020690918, {hms_string(epoch_elapsed)}\n",
            "Epoch 188, gen loss=0.31326228380203247,disc loss=1.6265254020690918, {hms_string(epoch_elapsed)}\n",
            "Epoch 189, gen loss=0.31326228380203247,disc loss=1.6265254020690918, {hms_string(epoch_elapsed)}\n",
            "Epoch 190, gen loss=0.31326228380203247,disc loss=1.6265254020690918, {hms_string(epoch_elapsed)}\n",
            "Epoch 191, gen loss=0.31326228380203247,disc loss=1.6265254020690918, {hms_string(epoch_elapsed)}\n",
            "Epoch 192, gen loss=0.31326228380203247,disc loss=1.6265254020690918, {hms_string(epoch_elapsed)}\n",
            "Epoch 193, gen loss=0.31326228380203247,disc loss=1.6265254020690918, {hms_string(epoch_elapsed)}\n",
            "Epoch 194, gen loss=0.31326228380203247,disc loss=1.6265254020690918, {hms_string(epoch_elapsed)}\n",
            "Epoch 195, gen loss=0.31326228380203247,disc loss=1.6265254020690918, {hms_string(epoch_elapsed)}\n",
            "Epoch 196, gen loss=0.31326228380203247,disc loss=1.6265254020690918, {hms_string(epoch_elapsed)}\n",
            "Epoch 197, gen loss=0.31326228380203247,disc loss=1.6265254020690918, {hms_string(epoch_elapsed)}\n",
            "Epoch 198, gen loss=0.31326228380203247,disc loss=1.6265254020690918, {hms_string(epoch_elapsed)}\n",
            "Epoch 199, gen loss=0.31326228380203247,disc loss=1.6265254020690918, {hms_string(epoch_elapsed)}\n",
            "Epoch 200, gen loss=0.31326228380203247,disc loss=1.6265254020690918, {hms_string(epoch_elapsed)}\n",
            "Epoch 201, gen loss=0.31326228380203247,disc loss=1.6265254020690918, {hms_string(epoch_elapsed)}\n",
            "Epoch 202, gen loss=0.31326228380203247,disc loss=1.6265254020690918, {hms_string(epoch_elapsed)}\n",
            "Epoch 203, gen loss=0.31326228380203247,disc loss=1.6265254020690918, {hms_string(epoch_elapsed)}\n",
            "Epoch 204, gen loss=0.31326228380203247,disc loss=1.6265254020690918, {hms_string(epoch_elapsed)}\n",
            "Epoch 205, gen loss=0.31326228380203247,disc loss=1.6265254020690918, {hms_string(epoch_elapsed)}\n",
            "Epoch 206, gen loss=0.31326228380203247,disc loss=1.6265254020690918, {hms_string(epoch_elapsed)}\n"
          ],
          "name": "stdout"
        }
      ]
    },
    {
      "cell_type": "code",
      "metadata": {
        "id": "pCkueVzgBqts"
      },
      "source": [
        "generator.save(os.path.join(DATA_PATH,\"face_generator.h5\"))"
      ],
      "execution_count": 23,
      "outputs": []
    },
    {
      "cell_type": "code",
      "metadata": {
        "id": "JrxiSMEcCXwf"
      },
      "source": [
        ""
      ],
      "execution_count": null,
      "outputs": []
    }
  ]
}